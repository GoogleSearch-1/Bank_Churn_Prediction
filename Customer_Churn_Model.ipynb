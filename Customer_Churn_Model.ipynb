{
 "cells": [
  {
   "cell_type": "code",
   "execution_count": 36,
   "metadata": {},
   "outputs": [],
   "source": [
    "import os\n",
    "import tensorflow as tf\n",
    "from tensorflow import keras\n",
    "from tensorflow.keras import backend as K\n",
    "from tensorflow.keras.models import Sequential\n",
    "from tensorflow.keras.layers import Dense, Flatten, Dropout, LSTM\n",
    "import numpy as np\n",
    "import matplotlib.pyplot as plt\n",
    "%matplotlib inline\n",
    "import pandas as pd\n"
   ]
  },
  {
   "cell_type": "code",
   "execution_count": null,
   "metadata": {},
   "outputs": [],
   "source": [
    "train = pd.read_csv(\"C:\\\\Users\\\\Luka's PC\\\\Desktop\\\\Customerchurn\\\\data\\\\train.csv\")\n",
    "test = pd.read_csv(\"C:\\\\Users\\\\Luka's PC\\\\Desktop\\\\Customerchurn\\\\data\\\\test.csv\")\n",
    "validation = pd.read_csv(\"C:\\\\Users\\\\Luka's PC\\\\Desktop\\\\Customerchurn\\\\data\\\\val.csv\")\n",
    "train['Gender'].replace('Female', 0, inplace=True)\n",
    "train['Gender'].replace('Male', 1, inplace=True)\n",
    "test['Gender'].replace('Female', 0, inplace=True)\n",
    "test['Gender'].replace('Male', 1, inplace=True)\n",
    "validation['Gender'].replace('Female', 0, inplace=True)\n",
    "validation['Gender'].replace('Male', 1, inplace=True)\n",
    "train['Geography'].replace('France', 0, inplace=True)\n",
    "train['Geography'].replace('Spain', 1, inplace=True)\n",
    "train['Geography'].replace('Germany', 2, inplace=True)\n",
    "test['Geography'].replace('France', 0, inplace=True)\n",
    "test['Geography'].replace('Spain', 1, inplace=True)\n",
    "test['Geography'].replace('Germany', 2, inplace=True)\n",
    "validation['Geography'].replace('France', 0, inplace=True)\n",
    "validation['Geography'].replace('Spain', 1, inplace=True)\n",
    "validation['Geography'].replace('Germany', 2, inplace=True)\n",
    "train.drop([\"id\", \"CustomerId\", \"Surname\"], axis=1, inplace=True)\n",
    "train = train.dropna()\n",
    "test.drop([\"CustomerId\", \"Surname\"], axis=1, inplace=True)\n",
    "validation.drop([\"RowNumber\", \"CustomerId\", \"Surname\"], axis=1, inplace=True)\n",
    "y_train = np.array(train['Exited'])\n",
    "y_val = np.array(validation['Exited'])\n",
    "Id = test['id']\n",
    "train.drop(['Exited'], axis=1, inplace=True)\n",
    "validation.drop(['Exited'], axis=1, inplace=True)\n",
    "test.drop(['id'], axis=1, inplace=True)\n",
    "X_train = np.array(train)\n",
    "X_val = np.array(validation)\n",
    "X_answer = np.array(test)\n"
   ]
  },
  {
   "cell_type": "code",
   "execution_count": 38,
   "metadata": {},
   "outputs": [],
   "source": [
    "epochs = 10\n",
    "batch_size = 1024\n",
    "input_shape = (165034, 10, 1)"
   ]
  },
  {
   "cell_type": "code",
   "execution_count": 39,
   "metadata": {},
   "outputs": [
    {
     "name": "stdout",
     "output_type": "stream",
     "text": [
      "Model: \"sequential_5\"\n",
      "_________________________________________________________________\n",
      " Layer (type)                Output Shape              Param #   \n",
      "=================================================================\n",
      " dense_20 (Dense)            (165034, 10, 1024)        2048      \n",
      "                                                                 \n",
      " lstm_5 (LSTM)               (165034, 512)             3147776   \n",
      "                                                                 \n",
      " flatten_5 (Flatten)         (165034, 512)             0         \n",
      "                                                                 \n",
      " dropout_5 (Dropout)         (165034, 512)             0         \n",
      "                                                                 \n",
      " dense_21 (Dense)            (165034, 128)             65664     \n",
      "                                                                 \n",
      " dense_22 (Dense)            (165034, 64)              8256      \n",
      "                                                                 \n",
      " dropout_6 (Dropout)         (165034, 64)              0         \n",
      "                                                                 \n",
      " dense_23 (Dense)            (165034, 32)              2080      \n",
      "                                                                 \n",
      " dense_24 (Dense)            (165034, 1)               33        \n",
      "                                                                 \n",
      "=================================================================\n",
      "Total params: 3225857 (12.31 MB)\n",
      "Trainable params: 3225857 (12.31 MB)\n",
      "Non-trainable params: 0 (0.00 Byte)\n",
      "_________________________________________________________________\n"
     ]
    }
   ],
   "source": [
    "model = Sequential()\n",
    "model.add(Dense(1024, activation='relu', batch_size=batch_size))\n",
    "model.add(LSTM(512))\n",
    "model.add(Flatten())\n",
    "model.add(Dropout(0.3))\n",
    "model.add(Dense(128))\n",
    "model.add(Dense(64))\n",
    "model.add(Dropout(0.2))\n",
    "model.add(Dense(32))\n",
    "model.add(Dense(1, activation='sigmoid'))\n",
    "model.build(input_shape)\n",
    "model.summary()"
   ]
  },
  {
   "cell_type": "code",
   "execution_count": 40,
   "metadata": {},
   "outputs": [
    {
     "name": "stdout",
     "output_type": "stream",
     "text": [
      "Epoch 1/10\n",
      "162/162 [==============================] - 38s 229ms/step - loss: 0.4565 - accuracy: 0.8028 - val_loss: nan - val_accuracy: 0.7762\n",
      "Epoch 2/10\n",
      "162/162 [==============================] - 37s 228ms/step - loss: 0.3746 - accuracy: 0.8392 - val_loss: nan - val_accuracy: 0.8281\n",
      "Epoch 3/10\n",
      "162/162 [==============================] - 37s 227ms/step - loss: 0.3452 - accuracy: 0.8537 - val_loss: nan - val_accuracy: 0.8517\n",
      "Epoch 4/10\n",
      "162/162 [==============================] - 37s 227ms/step - loss: 0.3353 - accuracy: 0.8588 - val_loss: nan - val_accuracy: 0.8546\n",
      "Epoch 5/10\n",
      "162/162 [==============================] - 37s 227ms/step - loss: 0.3338 - accuracy: 0.8594 - val_loss: nan - val_accuracy: 0.8535\n",
      "Epoch 6/10\n",
      "162/162 [==============================] - 37s 227ms/step - loss: 0.3318 - accuracy: 0.8604 - val_loss: nan - val_accuracy: 0.8539\n",
      "Epoch 7/10\n",
      "162/162 [==============================] - 37s 228ms/step - loss: 0.3306 - accuracy: 0.8606 - val_loss: nan - val_accuracy: 0.8547\n",
      "Epoch 8/10\n",
      "162/162 [==============================] - 38s 234ms/step - loss: 0.3298 - accuracy: 0.8610 - val_loss: nan - val_accuracy: 0.8537\n",
      "Epoch 9/10\n",
      "162/162 [==============================] - 38s 233ms/step - loss: 0.3291 - accuracy: 0.8618 - val_loss: nan - val_accuracy: 0.8487\n",
      "Epoch 10/10\n",
      "162/162 [==============================] - 37s 228ms/step - loss: 0.3308 - accuracy: 0.8606 - val_loss: nan - val_accuracy: 0.8535\n",
      "Test accuracy: 0.8535292744636536\n"
     ]
    }
   ],
   "source": [
    "model.compile(loss='binary_crossentropy', optimizer='Adam', metrics=['accuracy'])\n",
    "model.fit(X_train, y_train, batch_size=batch_size, epochs=epochs, validation_data=(X_val, y_val), shuffle=True)\n",
    "scores = model.evaluate(X_val, y_val,verbose=0)\n",
    "print('Test accuracy:', str(scores[1]))"
   ]
  },
  {
   "cell_type": "code",
   "execution_count": 41,
   "metadata": {},
   "outputs": [
    {
     "name": "stdout",
     "output_type": "stream",
     "text": [
      "3439/3439 [==============================] - 15s 4ms/step\n"
     ]
    }
   ],
   "source": [
    "Exited = model.predict(X_answer)\n",
    "data = []\n",
    "holder = []\n",
    "for i in range(len(Exited)):\n",
    "    if Exited[i] >= .5:\n",
    "        vari = 1\n",
    "    else:\n",
    "        vari = 0\n",
    "    holder.append(Id[i])\n",
    "    holder.append(vari)\n",
    "    data.append(holder)\n",
    "    holder = []\n",
    "df = pd.DataFrame(data, columns=['id', 'Exited'])\n",
    "df.to_csv('Bank2.csv', index=False)"
   ]
  }
 ],
 "metadata": {
  "kernelspec": {
   "display_name": "base",
   "language": "python",
   "name": "python3"
  },
  "language_info": {
   "name": "python",
   "version": "3.11.5"
  }
 },
 "nbformat": 4,
 "nbformat_minor": 2
}
